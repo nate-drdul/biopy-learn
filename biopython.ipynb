{
 "cells": [
  {
   "cell_type": "markdown",
   "id": "38b37e1c-1746-460b-be35-436a22d87e11",
   "metadata": {},
   "source": [
    "<h4>learning biopython with chatGPT4 help</h4>\n",
    "Disputably (of course!), the central object in bioinformatics is the sequence. "
   ]
  },
  {
   "cell_type": "code",
   "execution_count": 1,
   "id": "a5bf5e15-d654-4642-a7c6-44fd93a806d7",
   "metadata": {},
   "outputs": [],
   "source": [
    "from Bio.Seq import Seq"
   ]
  },
  {
   "cell_type": "code",
   "execution_count": 3,
   "id": "4c7e61f7-5e8e-4f5a-920f-c1ed2afb5d2d",
   "metadata": {},
   "outputs": [
    {
     "data": {
      "text/plain": [
       "Seq('AGTACACTGGT')"
      ]
     },
     "execution_count": 3,
     "metadata": {},
     "output_type": "execute_result"
    }
   ],
   "source": [
    "my_seq = Seq(\"AGTACACTGGT\")\n",
    "my_seq"
   ]
  },
  {
   "cell_type": "code",
   "execution_count": 4,
   "id": "440e8428-f759-431f-8c49-a179b3c04f61",
   "metadata": {},
   "outputs": [
    {
     "name": "stdout",
     "output_type": "stream",
     "text": [
      "AGTACACTGGT\n"
     ]
    }
   ],
   "source": [
    "print(my_seq)"
   ]
  },
  {
   "cell_type": "code",
   "execution_count": 5,
   "id": "51d38bd0-bbf1-42a3-a745-e341d5d2098c",
   "metadata": {},
   "outputs": [
    {
     "data": {
      "text/plain": [
       "Seq('TCATGTGACCA')"
      ]
     },
     "execution_count": 5,
     "metadata": {},
     "output_type": "execute_result"
    }
   ],
   "source": [
    "my_seq.complement()"
   ]
  },
  {
   "cell_type": "markdown",
   "id": "3ae5ee85-dd3c-49ce-bb52-ed26f584f4cd",
   "metadata": {},
   "source": [
    "In the context of DNA and RNA sequences, the term \"complement\" refers to the pairing between specific nucleotide bases. These pairings are based on hydrogen bonding patterns between the bases.\n",
    "\n",
    "In DNA:\n",
    "\n",
    "Adenine (A) pairs with Thymine (T) to form an A-T base pair.\n",
    "Cytosine (C) pairs with Guanine (G) to form a C-G base pair.\n",
    "In RNA:\n",
    "\n",
    "Adenine (A) pairs with Uracil (U) to form an A-U base pair.\n",
    "Cytosine (C) pairs with Guanine (G) to form a C-G base pair.\n",
    "When we talk about the \"complement\" of a DNA or RNA sequence, we're referring to replacing each nucleotide in the sequence with its complementary base. For instance:\n",
    "\n",
    "The DNA complement of \"A\" is \"T\".\n",
    "The DNA complement of \"G\" is \"C\".\n",
    "The RNA complement of \"A\" is \"U\".\n",
    "The RNA complement of \"G\" is \"C\".\n",
    "To illustrate with an example, if you have the DNA sequence \"ATCG\", its complement will be \"TAGC\".\n",
    "\n",
    "The complement is a fundamental concept in molecular biology, especially when considering the double-helical structure of DNA. The two strands of a DNA double helix are complementary to each other, which means if you know the sequence of one strand, you can determine the sequence of the opposite strand based on these pairing rules."
   ]
  },
  {
   "cell_type": "code",
   "execution_count": 6,
   "id": "7fd5797e-b3ea-4ca6-b51c-2466b5c38b0f",
   "metadata": {},
   "outputs": [
    {
     "data": {
      "text/plain": [
       "Seq('TAGC')"
      ]
     },
     "execution_count": 6,
     "metadata": {},
     "output_type": "execute_result"
    }
   ],
   "source": [
    "seq2 = Seq(\"ATCG\")\n",
    "seq2.complement()"
   ]
  },
  {
   "cell_type": "code",
   "execution_count": 8,
   "id": "89f53b23-0c2c-4f1e-83c1-59e62db8d514",
   "metadata": {},
   "outputs": [
    {
     "data": {
      "text/plain": [
       "Seq('CGAT')"
      ]
     },
     "execution_count": 8,
     "metadata": {},
     "output_type": "execute_result"
    }
   ],
   "source": [
    "seq2.reverse_complement()"
   ]
  },
  {
   "cell_type": "code",
   "execution_count": null,
   "id": "ef7a0830-8bf4-433b-956c-5a42097b63ee",
   "metadata": {},
   "outputs": [],
   "source": []
  }
 ],
 "metadata": {
  "kernelspec": {
   "display_name": "Python 3 (ipykernel)",
   "language": "python",
   "name": "python3"
  },
  "language_info": {
   "codemirror_mode": {
    "name": "ipython",
    "version": 3
   },
   "file_extension": ".py",
   "mimetype": "text/x-python",
   "name": "python",
   "nbconvert_exporter": "python",
   "pygments_lexer": "ipython3",
   "version": "3.11.5"
  }
 },
 "nbformat": 4,
 "nbformat_minor": 5
}
